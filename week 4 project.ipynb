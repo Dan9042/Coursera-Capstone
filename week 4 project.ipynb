{
 "cells": [
  {
   "cell_type": "markdown",
   "metadata": {},
   "source": [
    "## Business Problem"
   ]
  },
  {
   "cell_type": "markdown",
   "metadata": {},
   "source": [
    "Thinking about the advantages of clustering and the information about neighborhoods through the use of  foursquare, we can view the trade map of the city. Keep on eyes this idea, I'll be able to give an advise about open or not whatever type of commerce in a certain place.\n",
    "\n",
    "Then, the problem that I'm going to solve in this course is to find the best place to open a restaurant in Toronto. Analyzing the best area, the count of restaurants per area and other important characteristics like the amount of other type of establishments."
   ]
  },
  {
   "cell_type": "markdown",
   "metadata": {},
   "source": [
    "## Data section"
   ]
  },
  {
   "cell_type": "markdown",
   "metadata": {},
   "source": [
    "For this section I'll use the Foursquare data frame, this is one of the best tools to understand the trade map of the city. Also I'll use the data about the neighborhood, this will be useful to understand the shapes of the city and identify the business places and other type of places."
   ]
  }
 ],
 "metadata": {
  "kernelspec": {
   "display_name": "Python 3",
   "language": "python",
   "name": "python3"
  },
  "language_info": {
   "codemirror_mode": {
    "name": "ipython",
    "version": 3
   },
   "file_extension": ".py",
   "mimetype": "text/x-python",
   "name": "python",
   "nbconvert_exporter": "python",
   "pygments_lexer": "ipython3",
   "version": "3.6.4"
  }
 },
 "nbformat": 4,
 "nbformat_minor": 2
}
